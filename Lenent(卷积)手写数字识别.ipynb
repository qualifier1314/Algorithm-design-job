{
 "cells": [
  {
   "cell_type": "code",
   "execution_count": 3,
   "metadata": {
    "collapsed": true
   },
   "outputs": [],
   "source": [
    "import torch\n",
    "import torchvision as tv\n",
    "import torchvision.transforms as transforms\n",
    "import torch.nn as nn\n",
    "import argparse\n",
    "import matplotlib.pyplot as plt\n",
    "import numpy as np\n",
    "import pandas as pd\n",
    "\n",
    "\n",
    "BATCH_SIZE = 64\n",
    "LR = 0.001\n",
    "EPOCH = 5"
   ]
  },
  {
   "cell_type": "markdown",
   "metadata": {},
   "source": [
    "#  获取数据"
   ]
  },
  {
   "cell_type": "code",
   "execution_count": 4,
   "metadata": {
    "collapsed": true
   },
   "outputs": [],
   "source": [
    "transform = transforms.ToTensor()\n",
    "trainset = tv.datasets.MNIST('./data/',train=True,transform=transform,download=True)\n",
    "testset = tv.datasets.MNIST('./data/',train=False,transform=transform,download=True)"
   ]
  },
  {
   "cell_type": "markdown",
   "metadata": {},
   "source": [
    "# 数据预处理"
   ]
  },
  {
   "cell_type": "code",
   "execution_count": 5,
   "metadata": {
    "collapsed": true
   },
   "outputs": [],
   "source": [
    "trainloader = torch.utils.data.DataLoader(trainset,batch_size=BATCH_SIZE,shuffle=True)\n",
    "testloader = torch.utils.data.DataLoader(trainset,batch_size=BATCH_SIZE,shuffle=False)"
   ]
  },
  {
   "cell_type": "markdown",
   "metadata": {},
   "source": [
    "# 模型搭建"
   ]
  },
  {
   "cell_type": "code",
   "execution_count": 6,
   "metadata": {
    "collapsed": true
   },
   "outputs": [],
   "source": [
    "class LeNet(nn.Module):\n",
    "    def __init__(self):\n",
    "        super(LeNet,self).__init__()\n",
    "        self.conv1 = nn.Sequential(    \n",
    "            nn.Conv2d(in_channels=1,out_channels=6,kernel_size=5,stride=1,padding=2),#卷积\n",
    "            nn.BatchNorm2d(6),\n",
    "            nn.ReLU(),\n",
    "            nn.MaxPool2d(kernel_size=2,stride=2) #池化\n",
    "            )\n",
    "        self.conv2 = nn.Sequential(\n",
    "            nn.Conv2d(in_channels=6,out_channels=16,kernel_size=5,stride=1),#卷积\n",
    "            nn.BatchNorm2d(16),\n",
    "            nn.ReLU(),\n",
    "            nn.MaxPool2d(kernel_size=2,stride=2) #池化\n",
    "            )\n",
    "        self.fc1 = nn.Sequential(\n",
    "            nn.Linear(5*5*16,120),\n",
    "            nn.ReLU())\n",
    "        self.fc2 = nn.Sequential(\n",
    "            nn.Linear(120,84),\n",
    "            nn.ReLU())\n",
    "        self.fc3 = nn.Linear(84,10)\n",
    "        \n",
    "    def forward(self,x):\n",
    "        x = self.conv1(x)\n",
    "        x = self.conv2(x)\n",
    "        x = x.view(x.size()[0],-1)\n",
    "        x = self.fc1(x)\n",
    "        x = self.fc2(x)\n",
    "        x = self.fc3(x)\n",
    "        return x"
   ]
  },
  {
   "cell_type": "markdown",
   "metadata": {},
   "source": [
    "# 损失函数及优化方式"
   ]
  },
  {
   "cell_type": "code",
   "execution_count": 7,
   "metadata": {
    "collapsed": true
   },
   "outputs": [],
   "source": [
    "net =LeNet()\n",
    "criterion = nn.CrossEntropyLoss()\n",
    "optimizer = torch.optim.Adam(net.parameters(),lr = LR,betas=(0.9,0.999),eps=1e-08,weight_decay=0)\n"
   ]
  },
  {
   "cell_type": "markdown",
   "metadata": {},
   "source": [
    "# 训练模型及评估"
   ]
  },
  {
   "cell_type": "code",
   "execution_count": 8,
   "metadata": {
    "collapsed": true
   },
   "outputs": [],
   "source": [
    "def train():\n",
    "    for epoch in range(EPOCH):\n",
    "        sum_loss = 0.0\n",
    "        for i,data in enumerate(trainloader):\n",
    "            inputs,labels = data\n",
    "            optimizer.zero_grad()\n",
    "            outputs = net(inputs)\n",
    "#             print(outputs.shape)\n",
    "            loss = criterion(outputs,labels)\n",
    "            loss.backward()\n",
    "            optimizer.step()\n",
    "            \n",
    "            #没训练200个batch打印一次平均loss\n",
    "            sum_loss +=loss.item()\n",
    "            if i%200 == 199:  \n",
    "                print('[%d,%d] loss:%.03f' % (epoch+1,i+1,sum_loss /200))\n",
    "                sum_loss =0.0\n",
    "                \n",
    "    with torch.no_grad():\n",
    "        correct=0\n",
    "        total=0\n",
    "        for data in testloader:\n",
    "            images,labels = data\n",
    "            outputs = net(images)\n",
    "#             print(\"out is :\\n\",outputs[0][0])\n",
    "#             print(\"outputs.data is :\",outputs.data[0][0])\n",
    "            _,predicted = torch.max(outputs.data,1)\n",
    "            total += labels.size(0)\n",
    "            correct +=(predicted ==labels).sum()\n",
    "        print('第%d个epoch的识别准确率为:%.2f%%' %(epoch+1,(100.0* correct/total)))"
   ]
  },
  {
   "cell_type": "code",
   "execution_count": 9,
   "metadata": {},
   "outputs": [
    {
     "name": "stdout",
     "output_type": "stream",
     "text": [
      "[1,200] loss:0.440\n",
      "[1,400] loss:0.123\n",
      "[1,600] loss:0.079\n",
      "[1,800] loss:0.067\n",
      "[2,200] loss:0.060\n",
      "[2,400] loss:0.058\n",
      "[2,600] loss:0.054\n",
      "[2,800] loss:0.052\n",
      "[3,200] loss:0.044\n",
      "[3,400] loss:0.041\n",
      "[3,600] loss:0.042\n",
      "[3,800] loss:0.042\n",
      "[4,200] loss:0.033\n",
      "[4,400] loss:0.035\n",
      "[4,600] loss:0.026\n",
      "[4,800] loss:0.034\n",
      "[5,200] loss:0.026\n",
      "[5,400] loss:0.031\n",
      "[5,600] loss:0.023\n",
      "[5,800] loss:0.028\n",
      "第5个epoch的识别准确率为:99.27%\n"
     ]
    }
   ],
   "source": [
    "if __name__ == \"__main__\":\n",
    "    train()"
   ]
  },
  {
   "cell_type": "code",
   "execution_count": null,
   "metadata": {
    "collapsed": true
   },
   "outputs": [],
   "source": []
  }
 ],
 "metadata": {
  "kernelspec": {
   "display_name": "Python 3",
   "language": "python",
   "name": "python3"
  },
  "language_info": {
   "codemirror_mode": {
    "name": "ipython",
    "version": 3
   },
   "file_extension": ".py",
   "mimetype": "text/x-python",
   "name": "python",
   "nbconvert_exporter": "python",
   "pygments_lexer": "ipython3",
   "version": "3.8.3"
  }
 },
 "nbformat": 4,
 "nbformat_minor": 2
}
